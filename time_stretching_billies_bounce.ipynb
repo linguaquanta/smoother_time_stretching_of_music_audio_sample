{
 "cells": [
  {
   "cell_type": "code",
   "execution_count": 1,
   "id": "31dde9e3",
   "metadata": {},
   "outputs": [],
   "source": [
    "import numpy as np\n",
    "import librosa\n",
    "import libtsm\n",
    "import IPython.display as ipd\n",
    "import scipy.io as sio\n",
    "\n",
    "audio_file = 'your_music_file.wav' # important that the sample be in '.wav' format\n",
    "sample, sample_rate = librosa.load(audio_file)\n",
    "\n",
    "print('Original signal', flush=True)\n",
    "ipd.display(ipd.Audio(x, rate=Fs, normalize=True))"
   ]
  },
  {
   "cell_type": "code",
   "execution_count": 12,
   "id": "7973ed2e",
   "metadata": {},
   "outputs": [],
   "source": [
    "def print_mod_samples(mod_strs, mod_samples, sample_rate):\n",
    "    \n",
    "    for index, mod_str in enumerate(mod_strs):\n",
    "        print(mod_str, flush=True)\n",
    "        ipd.display(ipd.Audio(mod_samples[index][:,0], rate=sample_rate, normalize=True))\n",
    "\n",
    "def gen_time_stretched_and_sep(sample, alpha, sample_rate):\n",
    "    \n",
    "    # Harmonic-percussive separation\n",
    "    x_harm, x_perc = libtsm.hps(sample)\n",
    "\n",
    "    # Phase Vocoder for harmonic part, WSOLA for percussive part\n",
    "    y_harm, y_perc = libtsm.pv_tsm(x_harm, alpha), libtsm.wsola_tsm(x_perc, alpha, tol=0)\n",
    "\n",
    "    # Synthesis\n",
    "    y = y_harm + y_perc\n",
    "    \n",
    "    component_strs = ['Harmonic part', 'Percussive part','Time-stretched harmonic part', \n",
    "                      'Time-stretched percussive part','Time-stretched and synthesized']\n",
    "    \n",
    "    components = [x_harm, x_perc, y_harm, y_perc, y]\n",
    "    print_mod_samples(component_strs, components, sample_rate)"
   ]
  },
  {
   "cell_type": "code",
   "execution_count": null,
   "id": "fc0ab036",
   "metadata": {},
   "outputs": [],
   "source": [
    "stretch_factor = 1.25\n",
    "gen_time_stretched_and_sep(sample, stretch_factor, sample_rate)"
   ]
  }
 ],
 "metadata": {
  "kernelspec": {
   "display_name": "Python 3 (ipykernel)",
   "language": "python",
   "name": "python3"
  },
  "language_info": {
   "codemirror_mode": {
    "name": "ipython",
    "version": 3
   },
   "file_extension": ".py",
   "mimetype": "text/x-python",
   "name": "python",
   "nbconvert_exporter": "python",
   "pygments_lexer": "ipython3",
   "version": "3.9.0"
  }
 },
 "nbformat": 4,
 "nbformat_minor": 5
}
